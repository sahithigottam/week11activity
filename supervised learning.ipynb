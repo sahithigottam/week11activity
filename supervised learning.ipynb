{
 "cells": [
  {
   "cell_type": "code",
   "execution_count": 61,
   "id": "666ba40d",
   "metadata": {},
   "outputs": [],
   "source": [
    "import numpy as np\n",
    "import pandas as pd\n",
    "import matplotlib.pyplot as plt\n",
    "import seaborn as sns"
   ]
  },
  {
   "cell_type": "code",
   "execution_count": 62,
   "id": "3fd55d01",
   "metadata": {},
   "outputs": [],
   "source": [
    "import warnings\n",
    "warnings.filterwarnings('ignore')"
   ]
  },
  {
   "cell_type": "code",
   "execution_count": 6,
   "id": "cfa23195",
   "metadata": {},
   "outputs": [],
   "source": [
    "df=pd.read_excel(\"/Users/sahithi/Desktop/iris.xls\")"
   ]
  },
  {
   "cell_type": "code",
   "execution_count": 7,
   "id": "bd90a1d1",
   "metadata": {},
   "outputs": [
    {
     "data": {
      "text/html": [
       "<div>\n",
       "<style scoped>\n",
       "    .dataframe tbody tr th:only-of-type {\n",
       "        vertical-align: middle;\n",
       "    }\n",
       "\n",
       "    .dataframe tbody tr th {\n",
       "        vertical-align: top;\n",
       "    }\n",
       "\n",
       "    .dataframe thead th {\n",
       "        text-align: right;\n",
       "    }\n",
       "</style>\n",
       "<table border=\"1\" class=\"dataframe\">\n",
       "  <thead>\n",
       "    <tr style=\"text-align: right;\">\n",
       "      <th></th>\n",
       "      <th>SL</th>\n",
       "      <th>SW</th>\n",
       "      <th>PL</th>\n",
       "      <th>PW</th>\n",
       "      <th>Classification</th>\n",
       "    </tr>\n",
       "  </thead>\n",
       "  <tbody>\n",
       "    <tr>\n",
       "      <th>0</th>\n",
       "      <td>5.1</td>\n",
       "      <td>3.5</td>\n",
       "      <td>1.4</td>\n",
       "      <td>0.2</td>\n",
       "      <td>Iris-setosa</td>\n",
       "    </tr>\n",
       "    <tr>\n",
       "      <th>1</th>\n",
       "      <td>4.9</td>\n",
       "      <td>3.0</td>\n",
       "      <td>1.4</td>\n",
       "      <td>0.2</td>\n",
       "      <td>Iris-setosa</td>\n",
       "    </tr>\n",
       "    <tr>\n",
       "      <th>2</th>\n",
       "      <td>NaN</td>\n",
       "      <td>3.2</td>\n",
       "      <td>1.3</td>\n",
       "      <td>0.2</td>\n",
       "      <td>Iris-setosa</td>\n",
       "    </tr>\n",
       "    <tr>\n",
       "      <th>3</th>\n",
       "      <td>4.6</td>\n",
       "      <td>3.1</td>\n",
       "      <td>1.5</td>\n",
       "      <td>0.2</td>\n",
       "      <td>Iris-setosa</td>\n",
       "    </tr>\n",
       "    <tr>\n",
       "      <th>4</th>\n",
       "      <td>5.0</td>\n",
       "      <td>3.6</td>\n",
       "      <td>1.4</td>\n",
       "      <td>0.2</td>\n",
       "      <td>Iris-setosa</td>\n",
       "    </tr>\n",
       "    <tr>\n",
       "      <th>...</th>\n",
       "      <td>...</td>\n",
       "      <td>...</td>\n",
       "      <td>...</td>\n",
       "      <td>...</td>\n",
       "      <td>...</td>\n",
       "    </tr>\n",
       "    <tr>\n",
       "      <th>145</th>\n",
       "      <td>6.7</td>\n",
       "      <td>3.0</td>\n",
       "      <td>5.2</td>\n",
       "      <td>2.3</td>\n",
       "      <td>Iris-virginica</td>\n",
       "    </tr>\n",
       "    <tr>\n",
       "      <th>146</th>\n",
       "      <td>6.3</td>\n",
       "      <td>2.5</td>\n",
       "      <td>5.0</td>\n",
       "      <td>1.9</td>\n",
       "      <td>Iris-virginica</td>\n",
       "    </tr>\n",
       "    <tr>\n",
       "      <th>147</th>\n",
       "      <td>6.5</td>\n",
       "      <td>3.0</td>\n",
       "      <td>NaN</td>\n",
       "      <td>2.0</td>\n",
       "      <td>Iris-virginica</td>\n",
       "    </tr>\n",
       "    <tr>\n",
       "      <th>148</th>\n",
       "      <td>6.2</td>\n",
       "      <td>3.4</td>\n",
       "      <td>5.4</td>\n",
       "      <td>2.3</td>\n",
       "      <td>Iris-virginica</td>\n",
       "    </tr>\n",
       "    <tr>\n",
       "      <th>149</th>\n",
       "      <td>5.9</td>\n",
       "      <td>3.0</td>\n",
       "      <td>5.1</td>\n",
       "      <td>1.8</td>\n",
       "      <td>Iris-virginica</td>\n",
       "    </tr>\n",
       "  </tbody>\n",
       "</table>\n",
       "<p>150 rows × 5 columns</p>\n",
       "</div>"
      ],
      "text/plain": [
       "      SL   SW   PL   PW  Classification\n",
       "0    5.1  3.5  1.4  0.2     Iris-setosa\n",
       "1    4.9  3.0  1.4  0.2     Iris-setosa\n",
       "2    NaN  3.2  1.3  0.2     Iris-setosa\n",
       "3    4.6  3.1  1.5  0.2     Iris-setosa\n",
       "4    5.0  3.6  1.4  0.2     Iris-setosa\n",
       "..   ...  ...  ...  ...             ...\n",
       "145  6.7  3.0  5.2  2.3  Iris-virginica\n",
       "146  6.3  2.5  5.0  1.9  Iris-virginica\n",
       "147  6.5  3.0  NaN  2.0  Iris-virginica\n",
       "148  6.2  3.4  5.4  2.3  Iris-virginica\n",
       "149  5.9  3.0  5.1  1.8  Iris-virginica\n",
       "\n",
       "[150 rows x 5 columns]"
      ]
     },
     "execution_count": 7,
     "metadata": {},
     "output_type": "execute_result"
    }
   ],
   "source": [
    "df"
   ]
  },
  {
   "cell_type": "code",
   "execution_count": 8,
   "id": "73cf1cf3",
   "metadata": {},
   "outputs": [
    {
     "data": {
      "text/html": [
       "<div>\n",
       "<style scoped>\n",
       "    .dataframe tbody tr th:only-of-type {\n",
       "        vertical-align: middle;\n",
       "    }\n",
       "\n",
       "    .dataframe tbody tr th {\n",
       "        vertical-align: top;\n",
       "    }\n",
       "\n",
       "    .dataframe thead th {\n",
       "        text-align: right;\n",
       "    }\n",
       "</style>\n",
       "<table border=\"1\" class=\"dataframe\">\n",
       "  <thead>\n",
       "    <tr style=\"text-align: right;\">\n",
       "      <th></th>\n",
       "      <th>SL</th>\n",
       "      <th>SW</th>\n",
       "      <th>PL</th>\n",
       "      <th>PW</th>\n",
       "      <th>Classification</th>\n",
       "    </tr>\n",
       "  </thead>\n",
       "  <tbody>\n",
       "    <tr>\n",
       "      <th>0</th>\n",
       "      <td>5.1</td>\n",
       "      <td>3.5</td>\n",
       "      <td>1.4</td>\n",
       "      <td>0.2</td>\n",
       "      <td>Iris-setosa</td>\n",
       "    </tr>\n",
       "    <tr>\n",
       "      <th>1</th>\n",
       "      <td>4.9</td>\n",
       "      <td>3.0</td>\n",
       "      <td>1.4</td>\n",
       "      <td>0.2</td>\n",
       "      <td>Iris-setosa</td>\n",
       "    </tr>\n",
       "    <tr>\n",
       "      <th>2</th>\n",
       "      <td>NaN</td>\n",
       "      <td>3.2</td>\n",
       "      <td>1.3</td>\n",
       "      <td>0.2</td>\n",
       "      <td>Iris-setosa</td>\n",
       "    </tr>\n",
       "    <tr>\n",
       "      <th>3</th>\n",
       "      <td>4.6</td>\n",
       "      <td>3.1</td>\n",
       "      <td>1.5</td>\n",
       "      <td>0.2</td>\n",
       "      <td>Iris-setosa</td>\n",
       "    </tr>\n",
       "    <tr>\n",
       "      <th>4</th>\n",
       "      <td>5.0</td>\n",
       "      <td>3.6</td>\n",
       "      <td>1.4</td>\n",
       "      <td>0.2</td>\n",
       "      <td>Iris-setosa</td>\n",
       "    </tr>\n",
       "  </tbody>\n",
       "</table>\n",
       "</div>"
      ],
      "text/plain": [
       "    SL   SW   PL   PW Classification\n",
       "0  5.1  3.5  1.4  0.2    Iris-setosa\n",
       "1  4.9  3.0  1.4  0.2    Iris-setosa\n",
       "2  NaN  3.2  1.3  0.2    Iris-setosa\n",
       "3  4.6  3.1  1.5  0.2    Iris-setosa\n",
       "4  5.0  3.6  1.4  0.2    Iris-setosa"
      ]
     },
     "execution_count": 8,
     "metadata": {},
     "output_type": "execute_result"
    }
   ],
   "source": [
    "df.head()"
   ]
  },
  {
   "cell_type": "code",
   "execution_count": 9,
   "id": "d958e30d",
   "metadata": {},
   "outputs": [
    {
     "data": {
      "text/html": [
       "<div>\n",
       "<style scoped>\n",
       "    .dataframe tbody tr th:only-of-type {\n",
       "        vertical-align: middle;\n",
       "    }\n",
       "\n",
       "    .dataframe tbody tr th {\n",
       "        vertical-align: top;\n",
       "    }\n",
       "\n",
       "    .dataframe thead th {\n",
       "        text-align: right;\n",
       "    }\n",
       "</style>\n",
       "<table border=\"1\" class=\"dataframe\">\n",
       "  <thead>\n",
       "    <tr style=\"text-align: right;\">\n",
       "      <th></th>\n",
       "      <th>SL</th>\n",
       "      <th>SW</th>\n",
       "      <th>PL</th>\n",
       "      <th>PW</th>\n",
       "      <th>Classification</th>\n",
       "    </tr>\n",
       "  </thead>\n",
       "  <tbody>\n",
       "    <tr>\n",
       "      <th>145</th>\n",
       "      <td>6.7</td>\n",
       "      <td>3.0</td>\n",
       "      <td>5.2</td>\n",
       "      <td>2.3</td>\n",
       "      <td>Iris-virginica</td>\n",
       "    </tr>\n",
       "    <tr>\n",
       "      <th>146</th>\n",
       "      <td>6.3</td>\n",
       "      <td>2.5</td>\n",
       "      <td>5.0</td>\n",
       "      <td>1.9</td>\n",
       "      <td>Iris-virginica</td>\n",
       "    </tr>\n",
       "    <tr>\n",
       "      <th>147</th>\n",
       "      <td>6.5</td>\n",
       "      <td>3.0</td>\n",
       "      <td>NaN</td>\n",
       "      <td>2.0</td>\n",
       "      <td>Iris-virginica</td>\n",
       "    </tr>\n",
       "    <tr>\n",
       "      <th>148</th>\n",
       "      <td>6.2</td>\n",
       "      <td>3.4</td>\n",
       "      <td>5.4</td>\n",
       "      <td>2.3</td>\n",
       "      <td>Iris-virginica</td>\n",
       "    </tr>\n",
       "    <tr>\n",
       "      <th>149</th>\n",
       "      <td>5.9</td>\n",
       "      <td>3.0</td>\n",
       "      <td>5.1</td>\n",
       "      <td>1.8</td>\n",
       "      <td>Iris-virginica</td>\n",
       "    </tr>\n",
       "  </tbody>\n",
       "</table>\n",
       "</div>"
      ],
      "text/plain": [
       "      SL   SW   PL   PW  Classification\n",
       "145  6.7  3.0  5.2  2.3  Iris-virginica\n",
       "146  6.3  2.5  5.0  1.9  Iris-virginica\n",
       "147  6.5  3.0  NaN  2.0  Iris-virginica\n",
       "148  6.2  3.4  5.4  2.3  Iris-virginica\n",
       "149  5.9  3.0  5.1  1.8  Iris-virginica"
      ]
     },
     "execution_count": 9,
     "metadata": {},
     "output_type": "execute_result"
    }
   ],
   "source": [
    "df.tail()"
   ]
  },
  {
   "cell_type": "code",
   "execution_count": 10,
   "id": "06487991",
   "metadata": {},
   "outputs": [
    {
     "name": "stdout",
     "output_type": "stream",
     "text": [
      "<class 'pandas.core.frame.DataFrame'>\n",
      "RangeIndex: 150 entries, 0 to 149\n",
      "Data columns (total 5 columns):\n",
      " #   Column          Non-Null Count  Dtype  \n",
      "---  ------          --------------  -----  \n",
      " 0   SL              143 non-null    float64\n",
      " 1   SW              144 non-null    float64\n",
      " 2   PL              144 non-null    float64\n",
      " 3   PW              150 non-null    float64\n",
      " 4   Classification  150 non-null    object \n",
      "dtypes: float64(4), object(1)\n",
      "memory usage: 6.0+ KB\n"
     ]
    }
   ],
   "source": [
    "df.info()"
   ]
  },
  {
   "cell_type": "code",
   "execution_count": 11,
   "id": "48edf102",
   "metadata": {},
   "outputs": [
    {
     "data": {
      "text/plain": [
       "SL                7\n",
       "SW                6\n",
       "PL                6\n",
       "PW                0\n",
       "Classification    0\n",
       "dtype: int64"
      ]
     },
     "execution_count": 11,
     "metadata": {},
     "output_type": "execute_result"
    }
   ],
   "source": [
    "df.isna().sum()"
   ]
  },
  {
   "cell_type": "markdown",
   "id": "8c3b7e86",
   "metadata": {},
   "source": [
    "# 2. Do necessary pre-processing steps"
   ]
  },
  {
   "cell_type": "code",
   "execution_count": 13,
   "id": "e6cba6d5",
   "metadata": {},
   "outputs": [],
   "source": [
    "for i in ['SL', 'SW', 'PL']:\n",
    "    df[i]=df[i].fillna(df[i].median())"
   ]
  },
  {
   "cell_type": "code",
   "execution_count": 14,
   "id": "6479dfd7",
   "metadata": {},
   "outputs": [
    {
     "data": {
      "image/png": "[encoded data removed]",
      "text/plain": [
       "<Figure size 432x288 with 1 Axes>"
      ]
     },
     "metadata": {
      "needs_background": "light"
     },
     "output_type": "display_data"
    }
   ],
   "source": [
    "plt.figure()\n",
    "plt.boxplot(df[['SL', 'SW', 'PL', 'PW']],labels=['SL', 'SW', 'PL', 'PW'])\n",
    "plt.title('box plots of the data')\n",
    "plt.show()"
   ]
  },
  {
   "cell_type": "markdown",
   "id": "9a1dc61a",
   "metadata": {},
   "source": [
    "we have a few outliers here. "
   ]
  },
  {
   "cell_type": "code",
   "execution_count": 16,
   "id": "bcbfaf94",
   "metadata": {},
   "outputs": [
    {
     "name": "stdout",
     "output_type": "stream",
     "text": [
      "2.8\n",
      "3.0\n",
      "3.25\n"
     ]
    }
   ],
   "source": [
    "q1=np.percentile(df['SW'],25,interpolation='midpoint')\n",
    "q2=np.percentile(df['SW'],50,interpolation='midpoint')\n",
    "q3=np.percentile(df['SW'],75,interpolation='midpoint')\n",
    "print(q1)\n",
    "print(q2)\n",
    "print(q3)"
   ]
  },
  {
   "cell_type": "code",
   "execution_count": 20,
   "id": "cfb97f8b",
   "metadata": {},
   "outputs": [
    {
     "name": "stdout",
     "output_type": "stream",
     "text": [
      "2.1249999999999996 3.9250000000000003\n"
     ]
    }
   ],
   "source": [
    "IQR=q3-q1\n",
    "LW=q1-1.5*IQR\n",
    "UP=q3+1.5*IQR\n",
    "print(LW,UP)"
   ]
  },
  {
   "cell_type": "code",
   "execution_count": 22,
   "id": "97152c3a",
   "metadata": {},
   "outputs": [],
   "source": [
    "outlier=[]\n",
    "for x in df['SW']:\n",
    "    if((x>UP)or(x<LW)):\n",
    "        outlier.append(x)"
   ]
  },
  {
   "cell_type": "code",
   "execution_count": 23,
   "id": "d8423d43",
   "metadata": {},
   "outputs": [
    {
     "data": {
      "text/plain": [
       "[4.0, 4.4, 4.1, 4.2, 2.0]"
      ]
     },
     "execution_count": 23,
     "metadata": {},
     "output_type": "execute_result"
    }
   ],
   "source": [
    "outlier"
   ]
  },
  {
   "cell_type": "code",
   "execution_count": 25,
   "id": "293c44c7",
   "metadata": {},
   "outputs": [],
   "source": [
    "ind=(df['SW']>UP)|(df['SW']<LW)\n",
    "dt=df.loc[ind].index\n",
    "df.drop(dt,inplace=True)"
   ]
  },
  {
   "cell_type": "code",
   "execution_count": 26,
   "id": "5c254ec1",
   "metadata": {},
   "outputs": [
    {
     "data": {
      "image/png": "[encoded data removed]",
      "text/plain": [
       "<Figure size 720x576 with 1 Axes>"
      ]
     },
     "metadata": {
      "needs_background": "light"
     },
     "output_type": "display_data"
    }
   ],
   "source": [
    "plt.figure(figsize=(10,8))\n",
    "plt.boxplot(df['SW'])\n",
    "plt.title('Box plot of SW')\n",
    "plt.show()"
   ]
  },
  {
   "cell_type": "code",
   "execution_count": 28,
   "id": "79048060",
   "metadata": {},
   "outputs": [],
   "source": [
    "outlier1=[]\n",
    "for x in df['SW']:\n",
    "    if((x>=UP)or(x<=LW)):\n",
    "        outlier.append(x)"
   ]
  },
  {
   "cell_type": "code",
   "execution_count": 29,
   "id": "7898dda6",
   "metadata": {},
   "outputs": [
    {
     "data": {
      "text/plain": [
       "[]"
      ]
     },
     "execution_count": 29,
     "metadata": {},
     "output_type": "execute_result"
    }
   ],
   "source": [
    "outlier1"
   ]
  },
  {
   "cell_type": "code",
   "execution_count": 30,
   "id": "9db7357b",
   "metadata": {},
   "outputs": [
    {
     "data": {
      "image/png": "[encoded data removed]",
      "text/plain": [
       "<Figure size 720x576 with 1 Axes>"
      ]
     },
     "metadata": {
      "needs_background": "light"
     },
     "output_type": "display_data"
    }
   ],
   "source": [
    "plt.figure(figsize=(10,8))\n",
    "plt.boxplot(df['SW'])\n",
    "plt.title('Box plot of SW')\n",
    "plt.show()"
   ]
  },
  {
   "cell_type": "markdown",
   "id": "207d9563",
   "metadata": {},
   "source": [
    "there is one outlier left."
   ]
  },
  {
   "cell_type": "markdown",
   "id": "4ec71b80",
   "metadata": {},
   "source": [
    "Label encoding"
   ]
  },
  {
   "cell_type": "code",
   "execution_count": 31,
   "id": "b551fad2",
   "metadata": {},
   "outputs": [],
   "source": [
    "from sklearn.preprocessing import LabelEncoder\n",
    "label_en=LabelEncoder()\n",
    "a=['Classification']\n",
    "for i in np.arange(len(a)):\n",
    "    df[a[i]]=label_en.fit_transform(df[a[i]])"
   ]
  },
  {
   "cell_type": "markdown",
   "id": "914d5cfe",
   "metadata": {},
   "source": [
    "#  Find out which classification model gives the best result to predict iris species.(also do random forest algorithm)"
   ]
  },
  {
   "cell_type": "code",
   "execution_count": 32,
   "id": "8d3b755a",
   "metadata": {},
   "outputs": [],
   "source": [
    "x=df.drop(['Classification'],axis=1)\n",
    "y=pd.DataFrame(df['Classification'])"
   ]
  },
  {
   "cell_type": "code",
   "execution_count": 33,
   "id": "fdc283e7",
   "metadata": {},
   "outputs": [],
   "source": [
    "from sklearn.model_selection import train_test_split\n",
    "x_train,x_test,y_train,y_test=train_test_split(x,y,test_size=0.3,random_state=2)"
   ]
  },
  {
   "cell_type": "code",
   "execution_count": 63,
   "id": "5c9df3f3",
   "metadata": {},
   "outputs": [],
   "source": [
    "from sklearn.linear_model import LogisticRegression\n",
    "logit_model=LogisticRegression()\n",
    "logit_model.fit(x_train,y_train)\n",
    "y_pred=logit_model.predict(x_test)"
   ]
  },
  {
   "cell_type": "code",
   "execution_count": 35,
   "id": "196ccc39",
   "metadata": {},
   "outputs": [],
   "source": [
    "from sklearn.metrics import confusion_matrix,accuracy_score,precision_score,recall_score,f1_score"
   ]
  },
  {
   "cell_type": "markdown",
   "id": "ea89c55e",
   "metadata": {},
   "source": [
    "# logistic regression "
   ]
  },
  {
   "cell_type": "code",
   "execution_count": 36,
   "id": "bb7cb744",
   "metadata": {},
   "outputs": [
    {
     "name": "stdout",
     "output_type": "stream",
     "text": [
      "accuracy is: 0.9545454545454546\n",
      "precision score: 0.9500891265597149\n",
      "recall_score: 0.9500891265597149\n",
      "f1 score: 0.9500891265597149\n"
     ]
    }
   ],
   "source": [
    "print(\"accuracy is:\",accuracy_score(y_test,y_pred))\n",
    "print(\"precision score:\",precision_score(y_test,y_pred,average='macro'))\n",
    "print(\"recall_score:\",recall_score(y_test,y_pred,average='macro'))\n",
    "print('f1 score:',f1_score(y_test,y_pred,average='macro'))"
   ]
  },
  {
   "cell_type": "code",
   "execution_count": 37,
   "id": "5d984a2b",
   "metadata": {},
   "outputs": [
    {
     "data": {
      "text/plain": [
       "array([[16,  0,  0],\n",
       "       [ 0, 10,  1],\n",
       "       [ 0,  1, 16]])"
      ]
     },
     "execution_count": 37,
     "metadata": {},
     "output_type": "execute_result"
    }
   ],
   "source": [
    "confusion_matrix(y_test,y_pred)\n"
   ]
  },
  {
   "cell_type": "markdown",
   "id": "3eda974c",
   "metadata": {},
   "source": [
    "# Decision Tree"
   ]
  },
  {
   "cell_type": "code",
   "execution_count": 38,
   "id": "e6594470",
   "metadata": {},
   "outputs": [],
   "source": [
    "from sklearn.tree import DecisionTreeClassifier\n",
    "dt_model=DecisionTreeClassifier()\n",
    "dt_model.fit(x_train,y_train)\n",
    "y_pred=dt_model.predict(x_test)"
   ]
  },
  {
   "cell_type": "code",
   "execution_count": 39,
   "id": "2320172b",
   "metadata": {},
   "outputs": [
    {
     "name": "stdout",
     "output_type": "stream",
     "text": [
      "accuracy is: 0.9545454545454546\n",
      "precision score: 0.9500891265597149\n",
      "recall_score: 0.9500891265597149\n",
      "f1 score: 0.9500891265597149\n",
      "confusion_matrix: [[16  0  0]\n",
      " [ 0 10  1]\n",
      " [ 0  1 16]]\n"
     ]
    }
   ],
   "source": [
    "print(\"accuracy is:\",accuracy_score(y_test,y_pred))\n",
    "print(\"precision score:\",precision_score(y_test,y_pred,average='macro'))\n",
    "print(\"recall_score:\",recall_score(y_test,y_pred,average='macro'))\n",
    "print('f1 score:',f1_score(y_test,y_pred,average='macro'))\n",
    "print('confusion_matrix:',confusion_matrix(y_test,y_pred))"
   ]
  },
  {
   "cell_type": "markdown",
   "id": "5e2482e1",
   "metadata": {},
   "source": [
    "# Random Forest Classifier"
   ]
  },
  {
   "cell_type": "code",
   "execution_count": 64,
   "id": "bc3407df",
   "metadata": {},
   "outputs": [],
   "source": [
    "from sklearn.ensemble import RandomForestClassifier\n",
    "rf=RandomForestClassifier()\n",
    "rf.fit(x_train,y_train)\n",
    "y_pred=rf.predict(x_test)"
   ]
  },
  {
   "cell_type": "code",
   "execution_count": 41,
   "id": "1061c678",
   "metadata": {},
   "outputs": [
    {
     "name": "stdout",
     "output_type": "stream",
     "text": [
      "accuracy is: 0.9545454545454546\n",
      "precision score: 0.9500891265597149\n",
      "recall_score: 0.9500891265597149\n",
      "f1 score: 0.9500891265597149\n"
     ]
    }
   ],
   "source": [
    "print(\"accuracy is:\",accuracy_score(y_test,y_pred))\n",
    "print(\"precision score:\",precision_score(y_test,y_pred,average='macro'))\n",
    "print(\"recall_score:\",recall_score(y_test,y_pred,average='macro'))\n",
    "print('f1 score:',f1_score(y_test,y_pred,average='macro'))"
   ]
  },
  {
   "cell_type": "code",
   "execution_count": 42,
   "id": "5a17ba6e",
   "metadata": {},
   "outputs": [
    {
     "data": {
      "text/plain": [
       "array([[16,  0,  0],\n",
       "       [ 0, 10,  1],\n",
       "       [ 0,  1, 16]])"
      ]
     },
     "execution_count": 42,
     "metadata": {},
     "output_type": "execute_result"
    }
   ],
   "source": [
    "confusion_matrix(y_test,y_pred)"
   ]
  },
  {
   "cell_type": "code",
   "execution_count": 46,
   "id": "a9f65f64",
   "metadata": {},
   "outputs": [],
   "source": [
    "#lets do fine tuning or hyper parameters"
   ]
  },
  {
   "cell_type": "code",
   "execution_count": 43,
   "id": "ee4ec3dd",
   "metadata": {},
   "outputs": [],
   "source": [
    "rft=RandomForestClassifier(n_estimators=200,max_depth=10,random_state=42,criterion='entropy')"
   ]
  },
  {
   "cell_type": "code",
   "execution_count": 65,
   "id": "908828ae",
   "metadata": {},
   "outputs": [],
   "source": [
    "rft.fit(x_train,y_train)\n",
    "y_pred=rft.predict(x_test)"
   ]
  },
  {
   "cell_type": "code",
   "execution_count": 45,
   "id": "cc6ec073",
   "metadata": {},
   "outputs": [
    {
     "name": "stdout",
     "output_type": "stream",
     "text": [
      "accuracy is: 0.9545454545454546\n",
      "precision score: 0.9500891265597149\n",
      "recall_score: 0.9500891265597149\n",
      "f1 score: 0.9500891265597149\n"
     ]
    }
   ],
   "source": [
    "print(\"accuracy is:\",accuracy_score(y_test,y_pred))\n",
    "print(\"precision score:\",precision_score(y_test,y_pred,average='macro'))\n",
    "print(\"recall_score:\",recall_score(y_test,y_pred,average='macro'))\n",
    "print('f1 score:',f1_score(y_test,y_pred,average='macro'))"
   ]
  },
  {
   "cell_type": "markdown",
   "id": "82066384",
   "metadata": {},
   "source": [
    "we are getting the same accuracy so lets try gradient boosting"
   ]
  },
  {
   "cell_type": "code",
   "execution_count": 66,
   "id": "b936cec9",
   "metadata": {},
   "outputs": [],
   "source": [
    "from sklearn.ensemble import GradientBoostingClassifier\n",
    "gb=GradientBoostingClassifier()\n",
    "gb.fit(x_train,y_train)\n",
    "y_pred=gb.predict(x_test)"
   ]
  },
  {
   "cell_type": "code",
   "execution_count": 48,
   "id": "1bb16d2c",
   "metadata": {},
   "outputs": [
    {
     "name": "stdout",
     "output_type": "stream",
     "text": [
      "accuracy is: 0.9545454545454546\n",
      "precision score: 0.9500891265597149\n",
      "recall_score: 0.9500891265597149\n",
      "f1 score: 0.9500891265597149\n"
     ]
    }
   ],
   "source": [
    "print(\"accuracy is:\",accuracy_score(y_test,y_pred))\n",
    "print(\"precision score:\",precision_score(y_test,y_pred,average='macro'))\n",
    "print(\"recall_score:\",recall_score(y_test,y_pred,average='macro'))\n",
    "print('f1 score:',f1_score(y_test,y_pred,average='macro'))\n"
   ]
  },
  {
   "cell_type": "markdown",
   "id": "c8fec73d",
   "metadata": {},
   "source": [
    "the accuracy is same with all the classifiers"
   ]
  },
  {
   "cell_type": "markdown",
   "id": "d80ce5f2",
   "metadata": {},
   "source": [
    "# SVM"
   ]
  },
  {
   "cell_type": "code",
   "execution_count": 67,
   "id": "4a243490",
   "metadata": {},
   "outputs": [],
   "source": [
    "from sklearn.svm import SVC\n",
    "svm_linear=SVC(kernel='linear')\n",
    "svm_linear.fit(x_train,y_train)\n",
    "y_pred=svm_linear.predict(x_test)"
   ]
  },
  {
   "cell_type": "code",
   "execution_count": 51,
   "id": "b01ca860",
   "metadata": {},
   "outputs": [
    {
     "name": "stdout",
     "output_type": "stream",
     "text": [
      "accuracy is: 0.9545454545454546\n",
      "precision score: 0.9500891265597149\n",
      "recall_score: 0.9500891265597149\n",
      "f1 score: 0.9500891265597149\n"
     ]
    }
   ],
   "source": [
    "    print(\"accuracy is:\",accuracy_score(y_test,y_pred))\n",
    "print(\"precision score:\",precision_score(y_test,y_pred,average='macro'))\n",
    "print(\"recall_score:\",recall_score(y_test,y_pred,average='macro'))\n",
    "print('f1 score:',f1_score(y_test,y_pred,average='macro'))"
   ]
  },
  {
   "cell_type": "markdown",
   "id": "772fe7ab",
   "metadata": {},
   "source": [
    "polinomial svm\n"
   ]
  },
  {
   "cell_type": "code",
   "execution_count": 68,
   "id": "cc6e18bd",
   "metadata": {},
   "outputs": [],
   "source": [
    "svm_poly=SVC(kernel='poly',degree=3)\n",
    "svm_poly.fit(x_train,y_train)\n",
    "y_pred=svm_poly.predict(x_test)"
   ]
  },
  {
   "cell_type": "code",
   "execution_count": 53,
   "id": "96db2a88",
   "metadata": {},
   "outputs": [
    {
     "name": "stdout",
     "output_type": "stream",
     "text": [
      "accuracy is: 0.9545454545454546\n",
      "precision score: 0.9500891265597149\n",
      "recall_score: 0.9500891265597149\n",
      "f1 score: 0.9500891265597149\n"
     ]
    }
   ],
   "source": [
    "print(\"accuracy is:\",accuracy_score(y_test,y_pred))\n",
    "print(\"precision score:\",precision_score(y_test,y_pred,average='macro'))\n",
    "print(\"recall_score:\",recall_score(y_test,y_pred,average='macro'))\n",
    "print('f1 score:',f1_score(y_test,y_pred,average='macro'))"
   ]
  },
  {
   "cell_type": "code",
   "execution_count": 69,
   "id": "8c6b5acf",
   "metadata": {},
   "outputs": [],
   "source": [
    "svm_radial=SVC(kernel='rbf')\n",
    "svm_radial.fit(x_train,y_train)\n",
    "y_pred=svm_radial.predict(x_test)"
   ]
  },
  {
   "cell_type": "code",
   "execution_count": 55,
   "id": "5969df05",
   "metadata": {},
   "outputs": [
    {
     "name": "stdout",
     "output_type": "stream",
     "text": [
      "accuracy is: 0.9318181818181818\n",
      "precision score: 0.9236111111111112\n",
      "recall_score: 0.93048128342246\n",
      "f1 score: 0.9262187088274044\n"
     ]
    }
   ],
   "source": [
    "print(\"accuracy is:\",accuracy_score(y_test,y_pred))\n",
    "print(\"precision score:\",precision_score(y_test,y_pred,average='macro'))\n",
    "print(\"recall_score:\",recall_score(y_test,y_pred,average='macro'))\n",
    "print('f1 score:',f1_score(y_test,y_pred,average='macro'))\n"
   ]
  },
  {
   "cell_type": "markdown",
   "id": "f570f059",
   "metadata": {},
   "source": [
    "# KNN"
   ]
  },
  {
   "cell_type": "code",
   "execution_count": 70,
   "id": "5aff79c9",
   "metadata": {},
   "outputs": [],
   "source": [
    "from sklearn.neighbors import KNeighborsClassifier\n",
    "acc_values=[]\n",
    "neighbors=np.arange(3,15)\n",
    "for k in neighbors:\n",
    "    classifier=KNeighborsClassifier(n_neighbors=k,metric='minkowski')\n",
    "    classifier.fit(x_train,y_train)\n",
    "    y_pred=classifier.predict(x_test)\n",
    "    acc=accuracy_score(y_test,y_pred)\n",
    "    acc_values.append(acc)"
   ]
  },
  {
   "cell_type": "code",
   "execution_count": 57,
   "id": "03087352",
   "metadata": {},
   "outputs": [
    {
     "data": {
      "text/plain": [
       "Text(0, 0.5, 'accuracy')"
      ]
     },
     "execution_count": 57,
     "metadata": {},
     "output_type": "execute_result"
    },
    {
     "data": {
      "image/png": "[encoded data removed]",
      "text/plain": [
       "<Figure size 432x288 with 1 Axes>"
      ]
     },
     "metadata": {
      "needs_background": "light"
     },
     "output_type": "display_data"
    }
   ],
   "source": [
    "plt.plot(neighbors,acc_values,'o-')\n",
    "plt.xlabel('k value')\n",
    "plt.ylabel('accuracy')"
   ]
  },
  {
   "cell_type": "code",
   "execution_count": 71,
   "id": "9f47113f",
   "metadata": {},
   "outputs": [],
   "source": [
    "classifier=KNeighborsClassifier(n_neighbors=5,metric='minkowski')\n",
    "classifier.fit(x_train,y_train)\n",
    "y_pred=classifier.predict(x_test)"
   ]
  },
  {
   "cell_type": "code",
   "execution_count": 59,
   "id": "1447c438",
   "metadata": {},
   "outputs": [
    {
     "name": "stdout",
     "output_type": "stream",
     "text": [
      "accuracy is: 0.9545454545454546\n",
      "precision score: 0.9500891265597149\n",
      "recall_score: 0.9500891265597149\n",
      "f1 score: 0.9500891265597149\n"
     ]
    }
   ],
   "source": [
    "print(\"accuracy is:\",accuracy_score(y_test,y_pred))\n",
    "print(\"precision score:\",precision_score(y_test,y_pred,average='macro'))\n",
    "print(\"recall_score:\",recall_score(y_test,y_pred,average='macro'))\n",
    "print('f1 score:',f1_score(y_test,y_pred,average='macro'))"
   ]
  },
  {
   "cell_type": "code",
   "execution_count": 60,
   "id": "0b489a16",
   "metadata": {},
   "outputs": [
    {
     "data": {
      "text/plain": [
       "array([[16,  0,  0],\n",
       "       [ 0, 10,  1],\n",
       "       [ 0,  1, 16]])"
      ]
     },
     "execution_count": 60,
     "metadata": {},
     "output_type": "execute_result"
    }
   ],
   "source": [
    "confusion_matrix(y_test,y_pred)"
   ]
  },
  {
   "cell_type": "markdown",
   "id": "6ef13bb7",
   "metadata": {},
   "source": [
    "# Standardizing the features"
   ]
  },
  {
   "cell_type": "code",
   "execution_count": 72,
   "id": "49770514",
   "metadata": {},
   "outputs": [],
   "source": [
    "from sklearn.preprocessing import StandardScaler\n",
    "scaler=StandardScaler()\n",
    "x_train=scaler.fit_transform(x_train)\n",
    "x_test=scaler.fit_transform(x_test)"
   ]
  },
  {
   "cell_type": "code",
   "execution_count": 73,
   "id": "41890095",
   "metadata": {},
   "outputs": [],
   "source": [
    "logit_model=LogisticRegression()\n",
    "logit_model.fit(x_train,y_train)\n",
    "y_pred=logit_model.predict(x_test)"
   ]
  },
  {
   "cell_type": "code",
   "execution_count": 75,
   "id": "1db7c159",
   "metadata": {},
   "outputs": [],
   "source": [
    "#standardisation of logistics regression"
   ]
  },
  {
   "cell_type": "code",
   "execution_count": 74,
   "id": "07968f98",
   "metadata": {},
   "outputs": [
    {
     "name": "stdout",
     "output_type": "stream",
     "text": [
      "accuracy is: 0.9772727272727273\n",
      "precision score: 0.9814814814814815\n",
      "recall_score: 0.9696969696969697\n",
      "f1 score: 0.9746031746031746\n"
     ]
    }
   ],
   "source": [
    "print(\"accuracy is:\",accuracy_score(y_test,y_pred))\n",
    "print(\"precision score:\",precision_score(y_test,y_pred,average='macro'))\n",
    "print(\"recall_score:\",recall_score(y_test,y_pred,average='macro'))\n",
    "print('f1 score:',f1_score(y_test,y_pred,average='macro'))"
   ]
  },
  {
   "cell_type": "markdown",
   "id": "8b9ffd7d",
   "metadata": {},
   "source": [
    "after standardisation we got an accuracy of 97 percent"
   ]
  },
  {
   "cell_type": "code",
   "execution_count": 76,
   "id": "d9884740",
   "metadata": {},
   "outputs": [],
   "source": [
    "# standardising of random forest"
   ]
  },
  {
   "cell_type": "code",
   "execution_count": 77,
   "id": "1c0ed6c7",
   "metadata": {},
   "outputs": [],
   "source": [
    "rf=RandomForestClassifier()\n",
    "rf.fit(x_train,y_train)\n",
    "y_pred=rf.predict(x_test)"
   ]
  },
  {
   "cell_type": "code",
   "execution_count": 78,
   "id": "91e2959f",
   "metadata": {},
   "outputs": [
    {
     "name": "stdout",
     "output_type": "stream",
     "text": [
      "accuracy is: 0.9318181818181818\n",
      "precision score: 0.9296296296296296\n",
      "recall_score: 0.9197860962566846\n",
      "f1 score: 0.9238095238095237\n"
     ]
    }
   ],
   "source": [
    "print(\"accuracy is:\",accuracy_score(y_test,y_pred))\n",
    "print(\"precision score:\",precision_score(y_test,y_pred,average='macro'))\n",
    "print(\"recall_score:\",recall_score(y_test,y_pred,average='macro'))\n",
    "print('f1 score:',f1_score(y_test,y_pred,average='macro'))"
   ]
  },
  {
   "cell_type": "markdown",
   "id": "b167a4bb",
   "metadata": {},
   "source": [
    "accuracy is 93% after standardising"
   ]
  },
  {
   "cell_type": "code",
   "execution_count": 79,
   "id": "ca994890",
   "metadata": {},
   "outputs": [],
   "source": [
    "# standardising of svm"
   ]
  },
  {
   "cell_type": "code",
   "execution_count": 80,
   "id": "2214ee91",
   "metadata": {},
   "outputs": [],
   "source": [
    "svm_linear=SVC(kernel='linear')\n",
    "svm_linear.fit(x_train,y_train)\n",
    "y_pred=svm_linear.predict(x_test)"
   ]
  },
  {
   "cell_type": "code",
   "execution_count": 81,
   "id": "bba36f0c",
   "metadata": {},
   "outputs": [
    {
     "name": "stdout",
     "output_type": "stream",
     "text": [
      "accuracy is: 0.9772727272727273\n",
      "precision score: 0.9814814814814815\n",
      "recall_score: 0.9696969696969697\n",
      "f1 score: 0.9746031746031746\n"
     ]
    }
   ],
   "source": [
    "print(\"accuracy is:\",accuracy_score(y_test,y_pred))\n",
    "print(\"precision score:\",precision_score(y_test,y_pred,average='macro'))\n",
    "print(\"recall_score:\",recall_score(y_test,y_pred,average='macro'))\n",
    "print('f1 score:',f1_score(y_test,y_pred,average='macro'))"
   ]
  },
  {
   "cell_type": "markdown",
   "id": "32b8bcaa",
   "metadata": {},
   "source": [
    "again accuracy is 97% after standardisation"
   ]
  },
  {
   "cell_type": "code",
   "execution_count": 83,
   "id": "9c6f290e",
   "metadata": {},
   "outputs": [],
   "source": [
    "# standardising of decision tree"
   ]
  },
  {
   "cell_type": "code",
   "execution_count": 82,
   "id": "f5839a7c",
   "metadata": {},
   "outputs": [],
   "source": [
    "dt_model=DecisionTreeClassifier()\n",
    "dt_model.fit(x_train,y_train)\n",
    "y_pred=dt_model.predict(x_test)"
   ]
  },
  {
   "cell_type": "code",
   "execution_count": 84,
   "id": "8c145cd9",
   "metadata": {},
   "outputs": [
    {
     "name": "stdout",
     "output_type": "stream",
     "text": [
      "accuracy is: 0.9318181818181818\n",
      "precision score: 0.9296296296296296\n",
      "recall_score: 0.9197860962566846\n",
      "f1 score: 0.9238095238095237\n"
     ]
    }
   ],
   "source": [
    "print(\"accuracy is:\",accuracy_score(y_test,y_pred))\n",
    "print(\"precision score:\",precision_score(y_test,y_pred,average='macro'))\n",
    "print(\"recall_score:\",recall_score(y_test,y_pred,average='macro'))\n",
    "print('f1 score:',f1_score(y_test,y_pred,average='macro'))"
   ]
  },
  {
   "cell_type": "code",
   "execution_count": 85,
   "id": "87caba95",
   "metadata": {},
   "outputs": [],
   "source": [
    "# standardising KNN"
   ]
  },
  {
   "cell_type": "code",
   "execution_count": 86,
   "id": "c8fe7a7b",
   "metadata": {},
   "outputs": [],
   "source": [
    "classifier=KNeighborsClassifier(n_neighbors=5,metric='minkowski')\n",
    "classifier.fit(x_train,y_train)\n",
    "y_pred=classifier.predict(x_test)\n"
   ]
  },
  {
   "cell_type": "code",
   "execution_count": 87,
   "id": "e8a5e4cc",
   "metadata": {},
   "outputs": [
    {
     "name": "stdout",
     "output_type": "stream",
     "text": [
      "accuracy is: 0.9772727272727273\n",
      "precision score: 0.9814814814814815\n",
      "recall_score: 0.9696969696969697\n",
      "f1 score: 0.9746031746031746\n"
     ]
    }
   ],
   "source": [
    "print(\"accuracy is:\",accuracy_score(y_test,y_pred))\n",
    "print(\"precision score:\",precision_score(y_test,y_pred,average='macro'))\n",
    "print(\"recall_score:\",recall_score(y_test,y_pred,average='macro'))\n",
    "print('f1 score:',f1_score(y_test,y_pred,average='macro'))\n"
   ]
  },
  {
   "cell_type": "markdown",
   "id": "e33a5a05",
   "metadata": {},
   "source": [
    "HERE ALSO THE ACCURACY IS 97%"
   ]
  },
  {
   "cell_type": "code",
   "execution_count": null,
   "id": "ce53b4d1",
   "metadata": {},
   "outputs": [],
   "source": []
  }
 ],
 "metadata": {
  "kernelspec": {
   "display_name": "Python 3 (ipykernel)",
   "language": "python",
   "name": "python3"
  },
  "language_info": {
   "codemirror_mode": {
    "name": "ipython",
    "version": 3
   },
   "file_extension": ".py",
   "mimetype": "text/x-python",
   "name": "python",
   "nbconvert_exporter": "python",
   "pygments_lexer": "ipython3",
   "version": "3.9.12"
  }
 },
 "nbformat": 4,
 "nbformat_minor": 5
}
